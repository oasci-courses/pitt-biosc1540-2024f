{
 "cells": [
  {
   "cell_type": "markdown",
   "metadata": {},
   "source": [
    "# Predictive Modeling - pKa edition\n",
    "\n",
    "Today, we delve into the application of regression analysis in chemistry and data science.\n",
    "Our dataset comprises p$K_\\text{a}$ values and corresponding molecular descriptors, offering a quantitative approach to understanding molecular properties."
   ]
  },
  {
   "cell_type": "markdown",
   "metadata": {},
   "source": [
    "## pKa\n",
    "\n",
    "The p$K_\\text{a}$ measures a substance's acidity or basicity, particularly in chemistry.\n",
    "It is the negative logarithm (base 10) of the acid dissociation constant ($K_\\text{a}$) of a solution.\n",
    "The p$K_\\text{a}$ value helps quantify the strength of an acid in a solution.\n",
    "\n",
    "The expression for the acid dissociation constant ($K_\\text{a}$), from which p$K_\\text{a}$ is derived, is given by the following chemical equilibrium equation for a generic acid (HA) in water:\n",
    "\n",
    "$$\n",
    "\\text{HA} \\rightleftharpoons \\text{H}^+ + \\text{A}^-\n",
    "$$\n",
    "\n",
    "The equilibrium constant ($K_\\text{a}$) for this reaction is defined as the ratio of the concentrations of the dissociated ions ($\\text{H}^+$ and $\\text{A}^-$) to the undissociated acid ($\\text{HA}$):\n",
    "\n",
    "$$\n",
    "K_a = \\frac{[\\text{H}^+][\\text{A}^-]}{[\\text{HA}]}\n",
    "$$\n",
    "\n",
    "Taking the negative logarithm (base 10) of both sides of the equation gives the expression for pKa:\n",
    "\n",
    "$$\n",
    "\\text{p}K_a = -\\log_{10}(K_a)\n",
    "$$\n",
    "\n",
    "So, in summary, the p$K_\\text{a}$ is calculated by taking the negative logarithm of the acid dissociation constant ($K_\\text{a}$) for a given acid.\n",
    "A lower p$K_\\text{a}$ indicates a stronger acid.\n",
    "\n",
    "In simpler terms:\n",
    "\n",
    "-   A lower p$K_\\text{a}$ indicates a stronger acid because it means the acid is more likely to donate a proton (H+) in a chemical reaction.\n",
    "-   A higher p$K_\\text{a}$ indicates a weaker acid as it is less likely to donate a proton.\n",
    "\n",
    "The p$K_\\text{a}$ is a crucial parameter in understanding the behavior of acids and bases in various chemical reactions.\n",
    "It is commonly used in fields such as medicinal chemistry, biochemistry, and environmental science to describe and predict the behavior of molecules in solution."
   ]
  },
  {
   "cell_type": "markdown",
   "metadata": {},
   "source": [
    "## Exploring the dataset\n",
    "\n",
    "Now, let's shift our focus to a practical application of our theoretical knowledge.\n",
    "\n",
    "I found [this dataset](https://github.com/IUPAC/Dissociation-Constants) that contains a bunch of high-quality experimental measurements of pKas.\n",
    "It contains a bunch of information and other aspects that makes regression a bit of a nightmare; thus, I did some cleaning of the data and computed some molecular features (i.e., descriptors) that we can use.\n",
    "Before delving into regression analysis, it is essential to conduct a systematic review of the dataset.\n",
    "This preliminary examination will provide us with the necessary foundation to understand the quantitative relationships between molecular features and acidity.\n",
    "Let's now proceed with a methodical investigation of the empirical data, setting the stage for our subsequent analytical endeavors."
   ]
  },
  {
   "cell_type": "markdown",
   "metadata": {},
   "source": [
    "### Loading\n",
    "\n",
    "Using the Pandas library, read the CSV file into a DataFrame.\n",
    "Use the variable you defined in the previous step."
   ]
  },
  {
   "cell_type": "code",
   "execution_count": null,
   "metadata": {},
   "outputs": [],
   "source": [
    "import numpy as np\n",
    "import pandas as pd\n",
    "\n",
    "# @title\n",
    "\n",
    "from rdkit import Chem\n",
    "from rdkit.Chem import AllChem\n",
    "from rdkit.Chem import Draw\n",
    "import py3Dmol\n",
    "\n",
    "\n",
    "def show_mol(smi, style=\"stick\"):\n",
    "    mol = Chem.MolFromSmiles(smi)\n",
    "    mol = Chem.AddHs(mol)\n",
    "    AllChem.EmbedMolecule(mol)\n",
    "    AllChem.MMFFOptimizeMolecule(mol, maxIters=200)\n",
    "    mblock = Chem.MolToMolBlock(mol)\n",
    "\n",
    "    view = py3Dmol.view(width=500, height=500)\n",
    "    view.addModel(mblock, \"mol\")\n",
    "    view.setStyle({style: {}})\n",
    "    view.zoomTo()\n",
    "    view.show()"
   ]
  },
  {
   "cell_type": "code",
   "execution_count": 34,
   "metadata": {},
   "outputs": [],
   "source": [
    "CSV_PATH = \"https://github.com/oasci-courses/pitt-biosc1540-2024f/raw/refs/heads/main/content/lectures/21/smiles-pka-desc.csv\"\n",
    "\n",
    "df = pd.read_csv(CSV_PATH)"
   ]
  }
 ],
 "metadata": {
  "kernelspec": {
   "display_name": "Python 3",
   "language": "python",
   "name": "python3"
  },
  "language_info": {
   "codemirror_mode": {
    "name": "ipython",
    "version": 3
   },
   "file_extension": ".py",
   "mimetype": "text/x-python",
   "name": "python",
   "nbconvert_exporter": "python",
   "pygments_lexer": "ipython3",
   "version": "3.13.0"
  }
 },
 "nbformat": 4,
 "nbformat_minor": 2
}
