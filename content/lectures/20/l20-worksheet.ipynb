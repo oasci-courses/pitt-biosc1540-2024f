{
 "cells": [
  {
   "cell_type": "markdown",
   "metadata": {},
   "source": [
    "# L20 worksheet\n",
    "\n",
    "Breast cancer is one of the leading causes of cancer-related deaths worldwide, with its prognosis and treatment response varying significantly among patients.\n",
    "Advances in transcriptomics allow us to study gene expression levels and identify patterns that contribute to these differences.\n",
    "By analyzing this data, we can uncover valuable insights into the genetic underpinnings of breast cancer outcomes.\n",
    "\n",
    "In this activity, we will explore a processed subset of the [METABRIC dataset](https://www.nature.com/articles/nature10983), focusing on patients with invasive ductal carcinoma who underwent mastectomy without chemotherapy or radiotherapy.\n",
    "The data includes gene expression levels for 331 genes and survival outcomes for 278 patients (139 survivors and 139 non-survivors).\n",
    "\n",
    "The data is provided in three formats: [Google Sheets](https://docs.google.com/spreadsheets/d/1gyke4S53kKFnJB2ojUnaeoFhBWy8vlr6fOVDaUoEMco/edit?usp=sharing), [Excel](https://github.com/oasci-courses/pitt-biosc1540-2024f/raw/refs/heads/main/content/lectures/20/metabric-gene-expression.xlsx), and [NumPy](https://github.com/oasci-courses/pitt-biosc1540-2024f/raw/refs/heads/main/content/lectures/20/metabric-gene-expression.npy) files.\n"
   ]
  }
 ],
 "metadata": {
  "kernelspec": {
   "display_name": "default",
   "language": "python",
   "name": "python3"
  },
  "language_info": {
   "codemirror_mode": {
    "name": "ipython",
    "version": 3
   },
   "file_extension": ".py",
   "mimetype": "text/x-python",
   "name": "python",
   "nbconvert_exporter": "python",
   "pygments_lexer": "ipython3",
   "version": "3.13.0"
  }
 },
 "nbformat": 4,
 "nbformat_minor": 2
}
