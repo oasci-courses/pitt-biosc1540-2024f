{
 "cells": [
  {
   "cell_type": "markdown",
   "metadata": {},
   "source": [
    "# L19 worksheet"
   ]
  },
  {
   "cell_type": "markdown",
   "metadata": {},
   "source": [
    "## Printing and comments\n",
    "\n",
    "In this section, you will learn how to:\n",
    "\n",
    "- Use the `print()` function to display information.\n",
    "- Write comments to explain your code.\n",
    "\n",
    "**Related material:** [printing](https://python.crumblearn.org/basics/printing/) and [comments](https://python.crumblearn.org/basics/comments/)"
   ]
  },
  {
   "cell_type": "markdown",
   "metadata": {},
   "source": [
    "The `print()` function is used to display output on the screen.\n",
    "Here's a simple example:"
   ]
  },
  {
   "cell_type": "code",
   "execution_count": null,
   "metadata": {},
   "outputs": [],
   "source": [
    "print(\"Computational biology is the best major!\")"
   ]
  },
  {
   "cell_type": "code",
   "execution_count": null,
   "metadata": {},
   "outputs": [],
   "source": [
    "print(\"Welcome to Python programming!\")"
   ]
  },
  {
   "cell_type": "code",
   "execution_count": null,
   "metadata": {},
   "outputs": [],
   "source": [
    "print(\"Welcome\", \"to\", \"Python\", \"programming!\")"
   ]
  },
  {
   "cell_type": "code",
   "execution_count": null,
   "metadata": {},
   "outputs": [],
   "source": [
    "print(42)\n",
    "print(3.14)"
   ]
  },
  {
   "cell_type": "code",
   "execution_count": null,
   "metadata": {},
   "outputs": [],
   "source": [
    "print(\"The answer is:\", 42)"
   ]
  },
  {
   "cell_type": "code",
   "execution_count": null,
   "metadata": {},
   "outputs": [],
   "source": [
    "print(\"Sometimes I want to\\n\\n\\nbe dramatic.\")"
   ]
  },
  {
   "cell_type": "markdown",
   "metadata": {},
   "source": [
    "Comments are used to explain what your code does.\n",
    "They are ignored by Python when the code is run."
   ]
  },
  {
   "cell_type": "code",
   "execution_count": null,
   "metadata": {},
   "outputs": [],
   "source": [
    "# This is a single-line comment\n",
    "print(\"Comments are ignored by Python.\")"
   ]
  },
  {
   "cell_type": "code",
   "execution_count": null,
   "metadata": {},
   "outputs": [],
   "source": [
    "\"\"\"\n",
    "This is a multi-line comment.\n",
    "It can span multiple lines.\n",
    "\"\"\"\n",
    "\n",
    "print(\"Use comments to explain your code!\")"
   ]
  },
  {
   "cell_type": "markdown",
   "metadata": {},
   "source": [
    "**🏅 Exercises**\n",
    "\n",
    "**1.1** In the cell below, print your name, age, and favorite color on one line.\n",
    "For example\n",
    "\n",
    "```text\n",
    "Alex, 22, Purple\n",
    "```"
   ]
  },
  {
   "cell_type": "code",
   "execution_count": null,
   "metadata": {},
   "outputs": [],
   "source": []
  },
  {
   "cell_type": "markdown",
   "metadata": {},
   "source": [
    "**1.2** In the cell below, print the same information but only one on each line.\n",
    "For example,\n",
    "\n",
    "```text\n",
    "Alex\n",
    "22\n",
    "Purple\n",
    "```"
   ]
  },
  {
   "cell_type": "code",
   "execution_count": null,
   "metadata": {},
   "outputs": [],
   "source": []
  },
  {
   "cell_type": "markdown",
   "metadata": {},
   "source": [
    "**1.3** In the cell below, print the same text as before but using only one `print` statement."
   ]
  },
  {
   "cell_type": "code",
   "execution_count": null,
   "metadata": {},
   "outputs": [],
   "source": []
  },
  {
   "cell_type": "markdown",
   "metadata": {},
   "source": [
    "## Arithmetic operations\n",
    "\n",
    "In this section, you will learn how to:\n",
    "\n",
    "- Perform basic arithmetic operations using Python.\n",
    "- Understand operator precedence.\n",
    "\n",
    "**Relevant material:** [Arithmetic](https://python.crumblearn.org/basics/arithmetic/)\n",
    "\n",
    "Python supports the following arithmetic operators:\n",
    "\n",
    "| **Operator** | **Description**             | **Example**             |\n",
    "|--------------|-----------------------------|-------------------------|\n",
    "| `+`          | Addition                    | `2 + 3` → `5`           |\n",
    "| `-`          | Subtraction                 | `7 - 4` → `3`           |\n",
    "| `*`          | Multiplication              | `3 * 4` → `12`          |\n",
    "| `/`          | Division                    | `8 / 2` → `4.0`         |\n",
    "| `//`         | Floor Division              | `7 // 3` → `2`          |\n",
    "| `%`          | Modulus (remainder)         | `7 % 3` → `1`           |\n",
    "| `**`         | Exponentiation              | `2 ** 3` → `8`          |"
   ]
  },
  {
   "cell_type": "code",
   "execution_count": null,
   "metadata": {},
   "outputs": [],
   "source": [
    "# Addition\n",
    "print(5 + 3)"
   ]
  },
  {
   "cell_type": "code",
   "execution_count": null,
   "metadata": {},
   "outputs": [],
   "source": [
    "# Subtraction\n",
    "print(10 - 7)"
   ]
  },
  {
   "cell_type": "code",
   "execution_count": null,
   "metadata": {},
   "outputs": [],
   "source": [
    "# Multiplication\n",
    "print(4 * 6)"
   ]
  },
  {
   "cell_type": "code",
   "execution_count": null,
   "metadata": {},
   "outputs": [],
   "source": [
    "# Division\n",
    "print(9 / 3)"
   ]
  },
  {
   "cell_type": "code",
   "execution_count": null,
   "metadata": {},
   "outputs": [],
   "source": [
    "# Floor Division\n",
    "print(7 // 2)"
   ]
  },
  {
   "cell_type": "code",
   "execution_count": null,
   "metadata": {},
   "outputs": [],
   "source": [
    "# Modulus\n",
    "print(8 % 3)"
   ]
  },
  {
   "cell_type": "code",
   "execution_count": null,
   "metadata": {},
   "outputs": [],
   "source": [
    "# Exponentiation\n",
    "print(2**4)"
   ]
  },
  {
   "cell_type": "markdown",
   "metadata": {},
   "source": [
    "When multiple operators are used in a single expression, Python follows **operator precedence** (order of operations):\n",
    "\n",
    "1. Parentheses `()`\n",
    "2. Exponentiation `**`\n",
    "3. Multiplication `*`, Division `/`, Floor Division `//`, Modulus `%`\n",
    "4. Addition `+`, Subtraction `-`"
   ]
  },
  {
   "cell_type": "code",
   "execution_count": null,
   "metadata": {},
   "outputs": [],
   "source": [
    "# Parentheses first\n",
    "print((2 + 3) * 4)"
   ]
  },
  {
   "cell_type": "code",
   "execution_count": null,
   "metadata": {},
   "outputs": [],
   "source": [
    "# Exponentiation before multiplication\n",
    "print(2**3 * 4)"
   ]
  },
  {
   "cell_type": "code",
   "execution_count": null,
   "metadata": {},
   "outputs": [],
   "source": [
    "# Left-to-right for operators with same precedence\n",
    "print(10 / 2 * 3)"
   ]
  },
  {
   "cell_type": "markdown",
   "metadata": {},
   "source": [
    "**🏅 Exercises**\n",
    "\n",
    "**2.1** Evaluate the expression $\\frac{(3 + 5)^{2}}{2 \\cdot 4}$.\n",
    "(Hint: the answer is `8.0`.)"
   ]
  },
  {
   "cell_type": "code",
   "execution_count": null,
   "metadata": {},
   "outputs": [],
   "source": []
  },
  {
   "cell_type": "markdown",
   "metadata": {},
   "source": [
    "## Variables\n",
    "\n",
    "In this section, you will learn:\n",
    "\n",
    "- How to define and use variables in Python.\n",
    "- Rules for naming variables.\n",
    "- The importance of variables in programming.\n",
    "\n",
    "**Relevant material:** [variables](https://python.crumblearn.org/basics/variables/)\n",
    "\n",
    "Variables are containers for storing data values.\n",
    "Think of them as labels for information you want to use in your program."
   ]
  },
  {
   "cell_type": "code",
   "execution_count": 4,
   "metadata": {},
   "outputs": [
    {
     "name": "stdout",
     "output_type": "stream",
     "text": [
      "Alice\n",
      "25\n",
      "3.141592\n"
     ]
    }
   ],
   "source": [
    "# Defining variables\n",
    "name = \"Alice\"\n",
    "age = 25\n",
    "pi = 3.141592\n",
    "\n",
    "# Using variables\n",
    "print(name)\n",
    "print(age)\n",
    "print(pi)"
   ]
  },
  {
   "cell_type": "code",
   "execution_count": null,
   "metadata": {},
   "outputs": [
    {
     "name": "stdout",
     "output_type": "stream",
     "text": [
      "Bob 111 3.141592\n",
      "bill 111 3.141592\n"
     ]
    }
   ],
   "source": [
    "name, age, pi = \"Bob\", 111, 3.141_592\n",
    "print(name, age, pi)\n",
    "\n",
    "name = \"Bill\"\n",
    "print(name, age, pi)"
   ]
  },
  {
   "cell_type": "markdown",
   "metadata": {},
   "source": [
    "Python automatically assigns a type to a variable based on the value you assign.\n",
    "\n",
    "| **Type**    | **Description**          | **Example**     |\n",
    "|-------------|--------------------------|-----------------|\n",
    "| `int`       | Integer (whole number)   | `age = 25`      |\n",
    "| `float`     | Decimal number           | `pi = 3.14`     |\n",
    "| `str`       | String (text)            | `name = \"Bob\"`  |\n",
    "| `bool`      | Boolean (True/False)     | `is_valid = True`|"
   ]
  },
  {
   "cell_type": "code",
   "execution_count": null,
   "metadata": {},
   "outputs": [],
   "source": [
    "x = 10\n",
    "print(type(x))\n",
    "\n",
    "y = 3.14\n",
    "print(type(y))\n",
    "\n",
    "z = \"Hello\"\n",
    "print(type(z))"
   ]
  },
  {
   "cell_type": "markdown",
   "metadata": {},
   "source": [
    "**🏅 Exercises**\n",
    "\n",
    "**3.1**: Using the variables `length`, `height`, and `width`, compute the volume of a box with dimensions 10, 5, and 3, respectively."
   ]
  },
  {
   "cell_type": "code",
   "execution_count": null,
   "metadata": {},
   "outputs": [],
   "source": []
  },
  {
   "cell_type": "markdown",
   "metadata": {},
   "source": [
    "**3.2**: Imagine drawing a line from one corner of the rectangular box to the opposite corner, creating a right triangle with sides representing the length, width, and height; the diagonal is the hypotenuse of this triangle with length $\\sqrt{l^2 + h^2 + w^2}$.\n",
    "Calculate this diagonal length using the same `length`, `height`, and `width` variables below."
   ]
  },
  {
   "cell_type": "code",
   "execution_count": null,
   "metadata": {},
   "outputs": [],
   "source": []
  },
  {
   "cell_type": "markdown",
   "metadata": {},
   "source": [
    "**3.3**: Change the `length`, `height`, and `width` variables defined in **3.1** to be 8.32, 5.433, and 12.1 and recompute the diagonal using the same cell in **3.2**."
   ]
  }
 ],
 "metadata": {
  "kernelspec": {
   "display_name": "default",
   "language": "python",
   "name": "python3"
  },
  "language_info": {
   "codemirror_mode": {
    "name": "ipython",
    "version": 3
   },
   "file_extension": ".py",
   "mimetype": "text/x-python",
   "name": "python",
   "nbconvert_exporter": "python",
   "pygments_lexer": "ipython3",
   "version": "3.13.0"
  }
 },
 "nbformat": 4,
 "nbformat_minor": 2
}
